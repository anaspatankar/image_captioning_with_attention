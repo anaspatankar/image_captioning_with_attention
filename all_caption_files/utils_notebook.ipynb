{
 "cells": [
  {
   "cell_type": "code",
   "execution_count": 29,
   "metadata": {},
   "outputs": [],
   "source": [
    "dataset='DAMICA'\n",
    "karpathy_json_path='caption_data/dataset_DAMICA.json'\n",
    "image_folder='media/images/'\n",
    "captions_per_image=1\n",
    "min_word_freq=5\n",
    "output_folder='media/'\n",
    "max_len=50"
   ]
  },
  {
   "cell_type": "code",
   "execution_count": 30,
   "metadata": {},
   "outputs": [],
   "source": [
    "import os\n",
    "import numpy as np\n",
    "import h5py\n",
    "import json\n",
    "import torch\n",
    "from scipy.misc import imread, imresize\n",
    "from tqdm import tqdm\n",
    "from collections import Counter\n",
    "from random import seed, choice, sample"
   ]
  },
  {
   "cell_type": "code",
   "execution_count": 31,
   "metadata": {},
   "outputs": [],
   "source": [
    "with open(karpathy_json_path, 'r') as j:\n",
    "    data = json.load(j)"
   ]
  },
  {
   "cell_type": "code",
   "execution_count": null,
   "metadata": {},
   "outputs": [],
   "source": []
  },
  {
   "cell_type": "code",
   "execution_count": 32,
   "metadata": {},
   "outputs": [
    {
     "data": {
      "text/plain": [
       "14586"
      ]
     },
     "execution_count": 32,
     "metadata": {},
     "output_type": "execute_result"
    }
   ],
   "source": [
    "len(data['images'])"
   ]
  },
  {
   "cell_type": "code",
   "execution_count": 33,
   "metadata": {},
   "outputs": [],
   "source": [
    "train_image_paths = []\n",
    "train_image_captions = []\n",
    "val_image_paths = []\n",
    "val_image_captions = []\n",
    "test_image_paths = []\n",
    "test_image_captions = []\n",
    "word_freq = Counter()"
   ]
  },
  {
   "cell_type": "code",
   "execution_count": 34,
   "metadata": {},
   "outputs": [],
   "source": [
    "for img in data['images']:\n",
    "    captions = []\n",
    "    for c in img['sentences']:\n",
    "        # Update word frequency\n",
    "        word_freq.update(c['tokens'])\n",
    "        if len(c['tokens']) <= max_len:\n",
    "            captions.append(c['tokens'])\n",
    "\n",
    "    if len(captions) == 0:\n",
    "        continue\n",
    "\n",
    "    path = os.path.join(image_folder, img['filepath'], img['filename']) if dataset == 'coco' else os.path.join(\n",
    "        image_folder, img['filename'])\n",
    "\n",
    "    if img['split'] in {'train', 'restval'}:\n",
    "        train_image_paths.append(path)\n",
    "        train_image_captions.append(captions)\n",
    "    elif img['split'] in {'val'}:\n",
    "        val_image_paths.append(path)\n",
    "        val_image_captions.append(captions)\n",
    "    elif img['split'] in {'test'}:\n",
    "        test_image_paths.append(path)\n",
    "        test_image_captions.append(captions)"
   ]
  },
  {
   "cell_type": "code",
   "execution_count": null,
   "metadata": {},
   "outputs": [],
   "source": []
  },
  {
   "cell_type": "code",
   "execution_count": 36,
   "metadata": {},
   "outputs": [],
   "source": [
    "words = [w for w in word_freq.keys() if word_freq[w] > min_word_freq]\n",
    "word_map = {k: v + 1 for v, k in enumerate(words)}"
   ]
  },
  {
   "cell_type": "code",
   "execution_count": 37,
   "metadata": {},
   "outputs": [],
   "source": [
    "word_map['<unk>'] = len(word_map) + 1\n",
    "word_map['<start>'] = len(word_map) + 1\n",
    "word_map['<end>'] = len(word_map) + 1\n",
    "word_map['<pad>'] = 0"
   ]
  },
  {
   "cell_type": "code",
   "execution_count": 39,
   "metadata": {},
   "outputs": [],
   "source": [
    "base_filename = dataset + '_' + str(captions_per_image) + '_cap_per_img_' + str(min_word_freq) + '_min_word_freq'\n",
    "\n",
    "# Save word map to a JSON\n",
    "with open(os.path.join(output_folder, 'WORDMAP_' + base_filename + '.json'), 'w') as j:\n",
    "    json.dump(word_map, j)"
   ]
  },
  {
   "cell_type": "code",
   "execution_count": 41,
   "metadata": {},
   "outputs": [],
   "source": [
    "enc_captions = []\n",
    "caplens = []\n",
    "for j, c in enumerate(captions):\n",
    "    # Encode captions\n",
    "    enc_c = [word_map['<start>']] + [word_map.get(word, word_map['<unk>']) for word in c] + [\n",
    "        word_map['<end>']] + [word_map['<pad>']] * (max_len - len(c))\n",
    "\n",
    "    # Find caption lengths\n",
    "    c_len = len(c) + 2\n",
    "\n",
    "    enc_captions.append(enc_c)\n",
    "    caplens.append(c_len)"
   ]
  },
  {
   "cell_type": "code",
   "execution_count": 57,
   "metadata": {},
   "outputs": [
    {
     "data": {
      "text/plain": [
       "52"
      ]
     },
     "execution_count": 57,
     "metadata": {},
     "output_type": "execute_result"
    }
   ],
   "source": [
    "len(enc_captions[1])"
   ]
  },
  {
   "cell_type": "code",
   "execution_count": 63,
   "metadata": {},
   "outputs": [
    {
     "data": {
      "text/plain": [
       "2630"
      ]
     },
     "execution_count": 63,
     "metadata": {},
     "output_type": "execute_result"
    }
   ],
   "source": [
    "word_map.get(\"d\", word_map['<unk>'])"
   ]
  },
  {
   "cell_type": "code",
   "execution_count": 64,
   "metadata": {},
   "outputs": [
    {
     "data": {
      "text/plain": [
       "['a',\n",
       " 'big',\n",
       " 'dog',\n",
       " 'stands',\n",
       " 'on',\n",
       " 'his',\n",
       " 'hand',\n",
       " 'leg',\n",
       " 'as',\n",
       " 'tennis',\n",
       " 'balls',\n",
       " 'are',\n",
       " 'thrown',\n",
       " 'his',\n",
       " 'direction']"
      ]
     },
     "execution_count": 64,
     "metadata": {},
     "output_type": "execute_result"
    }
   ],
   "source": []
  },
  {
   "cell_type": "code",
   "execution_count": null,
   "metadata": {},
   "outputs": [],
   "source": []
  }
 ],
 "metadata": {
  "kernelspec": {
   "display_name": "Python 3",
   "language": "python",
   "name": "python3"
  },
  "language_info": {
   "codemirror_mode": {
    "name": "ipython",
    "version": 3
   },
   "file_extension": ".py",
   "mimetype": "text/x-python",
   "name": "python",
   "nbconvert_exporter": "python",
   "pygments_lexer": "ipython3",
   "version": "3.7.1"
  }
 },
 "nbformat": 4,
 "nbformat_minor": 2
}
