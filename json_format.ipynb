{
 "cells": [
  {
   "cell_type": "markdown",
   "metadata": {},
   "source": [
    "### Making the Karpathy JSON format"
   ]
  },
  {
   "cell_type": "code",
   "execution_count": 23,
   "metadata": {},
   "outputs": [],
   "source": [
    "import glob,os, shutil\n",
    "import numpy as np"
   ]
  },
  {
   "cell_type": "code",
   "execution_count": 7,
   "metadata": {},
   "outputs": [],
   "source": [
    "import pandas as pd\n",
    "df = pd.DataFrame()"
   ]
  },
  {
   "cell_type": "code",
   "execution_count": 5,
   "metadata": {},
   "outputs": [],
   "source": [
    "#Add caption folder path to extract all captions\n",
    "caption_folder_path = 'captions/*.txt'\n",
    "\n",
    "#Add image folder path to extract all images\n",
    "image_folder_path = 'images/*.jpg'\n",
    "\n",
    "\n",
    "image = []\n",
    "caps = []\n",
    "for i, j in zip(glob.glob(caption_folder_path), glob.glob(image_folder_path)):\n",
    "    cap, img = os.path.split(i)[-1], os.path.split(j)[-1]\n",
    "    \n",
    "    #Add the correct folder name which contains the captions\n",
    "    f = open('captions/'+ cap, \"r\")\n",
    "    caps.append(f.read())\n",
    "    image.append(img)\n",
    "    "
   ]
  },
  {
   "cell_type": "code",
   "execution_count": 9,
   "metadata": {},
   "outputs": [],
   "source": [
    "df['filename'] = image\n",
    "df['raw_caps'] = caps\n",
    "df['tokens']  = df['raw_caps'].apply(lambda x:x.split())"
   ]
  },
  {
   "cell_type": "code",
   "execution_count": 10,
   "metadata": {},
   "outputs": [
    {
     "data": {
      "text/html": [
       "<div>\n",
       "<style scoped>\n",
       "    .dataframe tbody tr th:only-of-type {\n",
       "        vertical-align: middle;\n",
       "    }\n",
       "\n",
       "    .dataframe tbody tr th {\n",
       "        vertical-align: top;\n",
       "    }\n",
       "\n",
       "    .dataframe thead th {\n",
       "        text-align: right;\n",
       "    }\n",
       "</style>\n",
       "<table border=\"1\" class=\"dataframe\">\n",
       "  <thead>\n",
       "    <tr style=\"text-align: right;\">\n",
       "      <th></th>\n",
       "      <th>filename</th>\n",
       "      <th>raw_caps</th>\n",
       "      <th>tokens</th>\n",
       "    </tr>\n",
       "  </thead>\n",
       "  <tbody>\n",
       "    <tr>\n",
       "      <th>0</th>\n",
       "      <td>00001.jpg</td>\n",
       "      <td>By: K. Allen, PhD; A. Morhardt, PhD; T. Ritzma...</td>\n",
       "      <td>[By:, K., Allen,, PhD;, A., Morhardt,, PhD;, T...</td>\n",
       "    </tr>\n",
       "    <tr>\n",
       "      <th>1</th>\n",
       "      <td>00002.jpg</td>\n",
       "      <td>Materials: gloves, forceps, probe, scissors, s...</td>\n",
       "      <td>[Materials:, gloves,, forceps,, probe,, scisso...</td>\n",
       "    </tr>\n",
       "    <tr>\n",
       "      <th>2</th>\n",
       "      <td>00003.jpg</td>\n",
       "      <td>Posterior view of pharynx in retropharyngeal s...</td>\n",
       "      <td>[Posterior, view, of, pharynx, in, retropharyn...</td>\n",
       "    </tr>\n",
       "    <tr>\n",
       "      <th>3</th>\n",
       "      <td>00004.jpg</td>\n",
       "      <td>Retropharyngeal space: potential space between...</td>\n",
       "      <td>[Retropharyngeal, space:, potential, space, be...</td>\n",
       "    </tr>\n",
       "    <tr>\n",
       "      <th>4</th>\n",
       "      <td>00005.jpg</td>\n",
       "      <td>Identify tip of greater horn of hyoid bone (ri...</td>\n",
       "      <td>[Identify, tip, of, greater, horn, of, hyoid, ...</td>\n",
       "    </tr>\n",
       "  </tbody>\n",
       "</table>\n",
       "</div>"
      ],
      "text/plain": [
       "    filename                                           raw_caps  \\\n",
       "0  00001.jpg  By: K. Allen, PhD; A. Morhardt, PhD; T. Ritzma...   \n",
       "1  00002.jpg  Materials: gloves, forceps, probe, scissors, s...   \n",
       "2  00003.jpg  Posterior view of pharynx in retropharyngeal s...   \n",
       "3  00004.jpg  Retropharyngeal space: potential space between...   \n",
       "4  00005.jpg  Identify tip of greater horn of hyoid bone (ri...   \n",
       "\n",
       "                                              tokens  \n",
       "0  [By:, K., Allen,, PhD;, A., Morhardt,, PhD;, T...  \n",
       "1  [Materials:, gloves,, forceps,, probe,, scisso...  \n",
       "2  [Posterior, view, of, pharynx, in, retropharyn...  \n",
       "3  [Retropharyngeal, space:, potential, space, be...  \n",
       "4  [Identify, tip, of, greater, horn, of, hyoid, ...  "
      ]
     },
     "execution_count": 10,
     "metadata": {},
     "output_type": "execute_result"
    }
   ],
   "source": [
    "df.head()"
   ]
  },
  {
   "cell_type": "code",
   "execution_count": 11,
   "metadata": {},
   "outputs": [],
   "source": [
    "import string\n",
    "table = str.maketrans('', '', string.punctuation)"
   ]
  },
  {
   "cell_type": "code",
   "execution_count": 12,
   "metadata": {},
   "outputs": [],
   "source": [
    "for i in range(len(df)):\n",
    "    df['tokens'][i] = [w.translate(table) for w in df['tokens'][i]]\n",
    "    df['tokens'][i] = [w for w in df['tokens'][i] if w]"
   ]
  },
  {
   "cell_type": "code",
   "execution_count": 24,
   "metadata": {},
   "outputs": [],
   "source": [
    "from numpy.random import multinomial\n",
    "\n",
    "n_total_samples = len(df)\n",
    "\n",
    "indices = np.arange(n_total_samples)\n",
    "inds_split = multinomial(n=1,\n",
    "                         pvals=[0.8, 0.1, 0.1],\n",
    "                         size=n_total_samples).argmax(axis=1)\n"
   ]
  },
  {
   "cell_type": "code",
   "execution_count": 26,
   "metadata": {},
   "outputs": [],
   "source": [
    "df['set_label'] = inds_split"
   ]
  },
  {
   "cell_type": "code",
   "execution_count": 28,
   "metadata": {},
   "outputs": [
    {
     "data": {
      "text/plain": [
       "0    11702\n",
       "1     1449\n",
       "2     1435\n",
       "Name: set_label, dtype: int64"
      ]
     },
     "execution_count": 28,
     "metadata": {},
     "output_type": "execute_result"
    }
   ],
   "source": [
    "df['set_label'].value_counts()"
   ]
  },
  {
   "cell_type": "code",
   "execution_count": 29,
   "metadata": {},
   "outputs": [],
   "source": [
    "dataset = {}"
   ]
  },
  {
   "cell_type": "code",
   "execution_count": 30,
   "metadata": {},
   "outputs": [],
   "source": [
    "dataset['images'] = {}\n",
    "dataset['dataset'] = 'DAMICA'"
   ]
  },
  {
   "cell_type": "code",
   "execution_count": 31,
   "metadata": {},
   "outputs": [],
   "source": [
    "dataset['images'] = [{\"sentids\":[i], \"imgid\":i, \"sentences\": [{\"tokens\": df['tokens'][i], \"raw\": df['raw_caps'][i], \"imgid\": i, \"sentid\": i}], \n",
    "                      \"split\": \"full_dataset\", \"filename\": df['filename'][i]} \n",
    "                     for i in range(df.shape[0])]"
   ]
  },
  {
   "cell_type": "code",
   "execution_count": 32,
   "metadata": {},
   "outputs": [],
   "source": [
    "for i in range(len(dataset['images'])):\n",
    "    if df['set_label'][i] == 2:\n",
    "        dataset['images'][i]['split'] = \"val\"\n",
    "    elif df['set_label'][i] == 1:\n",
    "        dataset['images'][i]['split'] = \"test\"\n",
    "    else:\n",
    "        dataset['images'][i]['split'] = \"train\""
   ]
  },
  {
   "cell_type": "code",
   "execution_count": 34,
   "metadata": {},
   "outputs": [],
   "source": [
    "import json\n",
    "with open('dataset_DAMICA.json', 'w') as outfile:\n",
    "    json.dump(dataset, outfile)"
   ]
  }
 ],
 "metadata": {
  "kernelspec": {
   "display_name": "Python 3",
   "language": "python",
   "name": "python3"
  },
  "language_info": {
   "codemirror_mode": {
    "name": "ipython",
    "version": 3
   },
   "file_extension": ".py",
   "mimetype": "text/x-python",
   "name": "python",
   "nbconvert_exporter": "python",
   "pygments_lexer": "ipython3",
   "version": "3.7.1"
  }
 },
 "nbformat": 4,
 "nbformat_minor": 2
}
